{
 "cells": [
  {
   "cell_type": "code",
   "execution_count": 1,
   "metadata": {},
   "outputs": [],
   "source": [
    "# 从sklearn 调入所需要的包\n",
    "# from sklearn import datasets\n",
    "from sklearn.model_selection import train_test_split #数据分隔出训练集和验证集\n",
    "import lightgbm as lgb\n",
    "import numpy as np\n",
    "import pandas as pd\n",
    "#导入精度和召回\n",
    "from sklearn.metrics import precision_score, recall_score\n",
    "import lightgbm as lgb"
   ]
  },
  {
   "cell_type": "code",
   "execution_count": 3,
   "metadata": {},
   "outputs": [
    {
     "name": "stdout",
     "output_type": "stream",
     "text": [
      "<class 'pandas.core.frame.DataFrame'>\n",
      "RangeIndex: 25317 entries, 0 to 25316\n",
      "Data columns (total 18 columns):\n",
      "ID           25317 non-null int64\n",
      "age          25317 non-null int64\n",
      "job          25317 non-null object\n",
      "marital      25317 non-null object\n",
      "education    25317 non-null object\n",
      "default      25317 non-null object\n",
      "balance      25317 non-null int64\n",
      "housing      25317 non-null object\n",
      "loan         25317 non-null object\n",
      "contact      25317 non-null object\n",
      "day          25317 non-null int64\n",
      "month        25317 non-null object\n",
      "duration     25317 non-null int64\n",
      "campaign     25317 non-null int64\n",
      "pdays        25317 non-null int64\n",
      "previous     25317 non-null int64\n",
      "poutcome     25317 non-null object\n",
      "y            25317 non-null int64\n",
      "dtypes: int64(9), object(9)\n",
      "memory usage: 3.5+ MB\n",
      "None\n",
      "<class 'pandas.core.frame.DataFrame'>\n",
      "RangeIndex: 10852 entries, 0 to 10851\n",
      "Data columns (total 17 columns):\n",
      "ID           10852 non-null int64\n",
      "age          10852 non-null int64\n",
      "job          10852 non-null object\n",
      "marital      10852 non-null object\n",
      "education    10852 non-null object\n",
      "default      10852 non-null object\n",
      "balance      10852 non-null int64\n",
      "housing      10852 non-null object\n",
      "loan         10852 non-null object\n",
      "contact      10852 non-null object\n",
      "day          10852 non-null int64\n",
      "month        10852 non-null object\n",
      "duration     10852 non-null int64\n",
      "campaign     10852 non-null int64\n",
      "pdays        10852 non-null int64\n",
      "previous     10852 non-null int64\n",
      "poutcome     10852 non-null object\n",
      "dtypes: int64(8), object(9)\n",
      "memory usage: 1.4+ MB\n",
      "None\n"
     ]
    }
   ],
   "source": [
    "path='./'\n",
    "train = pd.read_csv(path+'input/train_set.csv')\n",
    "test = pd.read_csv(path+'input/test_set.csv')\n",
    "print(train.info())\n",
    "print(test.info())"
   ]
  },
  {
   "cell_type": "code",
   "execution_count": 2,
   "metadata": {},
   "outputs": [
    {
     "name": "stdout",
     "output_type": "stream",
     "text": [
      "       name  growth\n",
      "jack  hello     100\n",
      "tom     the     125\n",
      "mike  cruel     150\n",
      "nike  world     200\n"
     ]
    }
   ],
   "source": [
    "import pandas as pd\n",
    "df = pd.DataFrame({'name' : \"hello the cruel world\".split(),\n",
    "                   'growth' : [100, 125, 150, 200]},\n",
    "                   index = \"jack tom mike nike\".split())\n",
    "print (df)"
   ]
  },
  {
   "cell_type": "code",
   "execution_count": 4,
   "metadata": {},
   "outputs": [
    {
     "name": "stdout",
     "output_type": "stream",
     "text": [
      "Index(['ID', 'age', 'job', 'marital', 'education', 'default', 'balance',\n",
      "       'housing', 'loan', 'contact', 'day', 'month', 'duration', 'campaign',\n",
      "       'pdays', 'previous', 'poutcome', 'y'],\n",
      "      dtype='object')\n"
     ]
    }
   ],
   "source": [
    "#columns \n",
    "print(train.columns)"
   ]
  },
  {
   "cell_type": "code",
   "execution_count": 5,
   "metadata": {},
   "outputs": [
    {
     "name": "stdout",
     "output_type": "stream",
     "text": [
      "(25317, 18)\n"
     ]
    }
   ],
   "source": [
    "print(train.shape)"
   ]
  },
  {
   "cell_type": "code",
   "execution_count": 6,
   "metadata": {},
   "outputs": [
    {
     "name": "stdout",
     "output_type": "stream",
     "text": [
      "455706\n"
     ]
    }
   ],
   "source": [
    "print(train.size)"
   ]
  },
  {
   "cell_type": "code",
   "execution_count": 7,
   "metadata": {},
   "outputs": [
    {
     "data": {
      "text/plain": [
       "array([[1, 43, 'management', ..., 0, 'unknown', 0],\n",
       "       [2, 42, 'technician', ..., 2, 'other', 0],\n",
       "       [3, 47, 'admin.', ..., 0, 'unknown', 0],\n",
       "       ...,\n",
       "       [25315, 35, 'blue-collar', ..., 0, 'unknown', 1],\n",
       "       [25316, 37, 'entrepreneur', ..., 0, 'unknown', 1],\n",
       "       [25317, 52, 'management', ..., 0, 'unknown', 1]], dtype=object)"
      ]
     },
     "execution_count": 7,
     "metadata": {},
     "output_type": "execute_result"
    }
   ],
   "source": [
    "train.values"
   ]
  },
  {
   "cell_type": "code",
   "execution_count": 8,
   "metadata": {},
   "outputs": [
    {
     "data": {
      "text/plain": [
       "ID            int64\n",
       "age           int64\n",
       "job          object\n",
       "marital      object\n",
       "education    object\n",
       "default      object\n",
       "balance       int64\n",
       "housing      object\n",
       "loan         object\n",
       "contact      object\n",
       "day           int64\n",
       "month        object\n",
       "duration      int64\n",
       "campaign      int64\n",
       "pdays         int64\n",
       "previous      int64\n",
       "poutcome     object\n",
       "y             int64\n",
       "dtype: object"
      ]
     },
     "execution_count": 8,
     "metadata": {},
     "output_type": "execute_result"
    }
   ],
   "source": [
    "train.dtypes"
   ]
  },
  {
   "cell_type": "code",
   "execution_count": 9,
   "metadata": {},
   "outputs": [
    {
     "data": {
      "text/plain": [
       "2"
      ]
     },
     "execution_count": 9,
     "metadata": {},
     "output_type": "execute_result"
    }
   ],
   "source": [
    "train.ndim"
   ]
  },
  {
   "cell_type": "code",
   "execution_count": 10,
   "metadata": {},
   "outputs": [
    {
     "data": {
      "text/plain": [
       "0    1\n",
       "1    2\n",
       "2    3\n",
       "3    4\n",
       "4    5\n",
       "Name: ID, dtype: int64"
      ]
     },
     "execution_count": 10,
     "metadata": {},
     "output_type": "execute_result"
    }
   ],
   "source": [
    "train['ID'].head()"
   ]
  },
  {
   "cell_type": "code",
   "execution_count": null,
   "metadata": {},
   "outputs": [],
   "source": []
  }
 ],
 "metadata": {
  "kernelspec": {
   "display_name": "Python 3",
   "language": "python",
   "name": "python3"
  },
  "language_info": {
   "codemirror_mode": {
    "name": "ipython",
    "version": 3
   },
   "file_extension": ".py",
   "mimetype": "text/x-python",
   "name": "python",
   "nbconvert_exporter": "python",
   "pygments_lexer": "ipython3",
   "version": "3.7.3"
  }
 },
 "nbformat": 4,
 "nbformat_minor": 2
}
