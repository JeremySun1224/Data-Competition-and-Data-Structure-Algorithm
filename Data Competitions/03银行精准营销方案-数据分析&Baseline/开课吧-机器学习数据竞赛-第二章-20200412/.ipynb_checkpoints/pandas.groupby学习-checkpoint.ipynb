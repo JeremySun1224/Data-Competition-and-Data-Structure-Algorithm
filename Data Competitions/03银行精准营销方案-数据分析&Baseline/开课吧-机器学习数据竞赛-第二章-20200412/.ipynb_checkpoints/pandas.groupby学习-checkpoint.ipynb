{
 "cells": [
  {
   "cell_type": "code",
   "execution_count": 1,
   "metadata": {
    "lang": "en"
   },
   "outputs": [],
   "source": [
    "from __future__ import print_function, division\n",
    "import pandas as pd\n",
    "pd.set_option(\"display.max_rows\", 20)\n",
    "pd.set_option(\"display.max_columns\", 500)\n",
    "pd.set_option(\"display.width\", 1000)\n",
    "import time"
   ]
  },
  {
   "cell_type": "markdown",
   "metadata": {},
   "source": [
    "## pandas.groupby学习"
   ]
  },
  {
   "cell_type": "markdown",
   "metadata": {},
   "source": [
    "### groupby示意\n",
    "groupby就是按某个字段分组, 它也确实是用来实现这样功能的.   \n",
    "比如, 将一份数据集按A列进行分组：  "
   ]
  },
  {
   "cell_type": "markdown",
   "metadata": {},
   "source": [
    "![jupyter](./2862169-51af7d4ae64c2f78.webp)"
   ]
  },
  {
   "cell_type": "markdown",
   "metadata": {},
   "source": [
    "### 读取数据"
   ]
  },
  {
   "cell_type": "code",
   "execution_count": 2,
   "metadata": {},
   "outputs": [
    {
     "name": "stdout",
     "output_type": "stream",
     "text": [
      "   ID  age         job   marital  education default  balance housing loan   contact  day month  duration  campaign  pdays  previous poutcome  y\n",
      "0   1   43  management   married   tertiary      no      291     yes   no   unknown    9   may       150         2     -1         0  unknown  0\n",
      "1   2   42  technician  divorced    primary      no     5076     yes   no  cellular    7   apr        99         1    251         2    other  0\n",
      "2   3   47      admin.   married  secondary      no      104     yes  yes  cellular   14   jul        77         2     -1         0  unknown  0\n",
      "3   4   28  management    single  secondary      no     -994     yes  yes  cellular   18   jul       174         2     -1         0  unknown  0\n",
      "4   5   42  technician  divorced  secondary      no     2974     yes   no   unknown   21   may       187         5     -1         0  unknown  0\n",
      "Wall time: 173 ms\n"
     ]
    }
   ],
   "source": [
    "%%time\n",
    "import pandas as pd\n",
    "import numpy as np\n",
    "import matplotlib.pyplot as plt\n",
    "df = pd.read_csv('./input/train_set.csv',nrows=1000)\n",
    "print(df.head())"
   ]
  },
  {
   "cell_type": "code",
   "execution_count": 8,
   "metadata": {},
   "outputs": [
    {
     "name": "stdout",
     "output_type": "stream",
     "text": [
      "{'technician', 'admin.', 'housemaid', 'retired', 'unemployed', 'unknown', 'management', 'self-employed', 'entrepreneur', 'services', 'student', 'blue-collar'}\n"
     ]
    }
   ],
   "source": [
    "print(set(df['job']))"
   ]
  },
  {
   "cell_type": "code",
   "execution_count": null,
   "metadata": {},
   "outputs": [],
   "source": [
    "df -job-groupby"
   ]
  },
  {
   "cell_type": "markdown",
   "metadata": {},
   "source": [
    "### groupby对象\n",
    "DataFrame使用groupby()函数返回的结果是DataFrameGroupBy   \n",
    "不是一个DataFrame或者Series  "
   ]
  },
  {
   "cell_type": "code",
   "execution_count": 4,
   "metadata": {},
   "outputs": [
    {
     "name": "stdout",
     "output_type": "stream",
     "text": [
      "<class 'pandas.core.groupby.groupby.DataFrameGroupBy'>\n",
      "<pandas.core.groupby.groupby.DataFrameGroupBy object at 0x0000024889DE7D68>\n"
     ]
    }
   ],
   "source": [
    "groupbyage = df.groupby('age')\n",
    "print(type(groupbyage))\n",
    "print(groupbyage)"
   ]
  },
  {
   "cell_type": "markdown",
   "metadata": {},
   "source": [
    "groupby分组不仅可以指定一个列名，也可以指定多个列名"
   ]
  },
  {
   "cell_type": "code",
   "execution_count": 5,
   "metadata": {},
   "outputs": [
    {
     "name": "stdout",
     "output_type": "stream",
     "text": [
      "age  marital \n",
      "20   single       1\n",
      "21   married      1\n",
      "     single       1\n",
      "22   single       1\n",
      "23   married      1\n",
      "     single       2\n",
      "24   married      3\n",
      "     single      10\n",
      "25   married      4\n",
      "     single      11\n",
      "26   divorced     2\n",
      "     married      3\n",
      "     single      12\n",
      "27   divorced     1\n",
      "     married      2\n",
      "     single      14\n",
      "28   married      6\n",
      "     single      21\n",
      "29   married      6\n",
      "     single      20\n",
      "30   divorced     2\n",
      "     married     11\n",
      "     single      13\n",
      "31   divorced     1\n",
      "     married     22\n",
      "     single      26\n",
      "32   divorced     6\n",
      "     married     12\n",
      "     single      23\n",
      "33   divorced     4\n",
      "                 ..\n",
      "54   married     16\n",
      "55   divorced     4\n",
      "     married     18\n",
      "     single       1\n",
      "56   divorced     8\n",
      "     married     14\n",
      "     single       2\n",
      "57   married     20\n",
      "     single       2\n",
      "58   divorced     6\n",
      "     married     12\n",
      "59   divorced     3\n",
      "     married     15\n",
      "60   divorced     2\n",
      "     married     16\n",
      "61   married      4\n",
      "     single       1\n",
      "66   married      1\n",
      "69   married      2\n",
      "71   divorced     1\n",
      "72   married      1\n",
      "73   married      1\n",
      "74   married      1\n",
      "75   divorced     2\n",
      "     married      1\n",
      "79   divorced     1\n",
      "80   divorced     1\n",
      "81   divorced     1\n",
      "83   divorced     1\n",
      "     married      1\n",
      "Length: 123, dtype: int64\n",
      "<pandas.core.groupby.groupby.DataFrameGroupBy object at 0x0000024889E1C160>\n"
     ]
    }
   ],
   "source": [
    "groupbyagemarital = df.groupby(['age','marital'])\n",
    "print(groupbyagemarital.size())\n",
    "print(groupbyagemarital)"
   ]
  },
  {
   "cell_type": "markdown",
   "metadata": {},
   "source": [
    "### 可以通过调用get_group()获得按照分组得到的DataFrame对象"
   ]
  },
  {
   "cell_type": "code",
   "execution_count": 6,
   "metadata": {},
   "outputs": [
    {
     "ename": "KeyError",
     "evalue": "'age'",
     "output_type": "error",
     "traceback": [
      "\u001b[1;31m---------------------------------------------------------------------------\u001b[0m",
      "\u001b[1;31mKeyError\u001b[0m                                  Traceback (most recent call last)",
      "\u001b[1;32m<ipython-input-6-b7686724c1d3>\u001b[0m in \u001b[0;36m<module>\u001b[1;34m\u001b[0m\n\u001b[1;32m----> 1\u001b[1;33m \u001b[0mgroupbyagedf\u001b[0m \u001b[1;33m=\u001b[0m \u001b[0mgroupbyage\u001b[0m\u001b[1;33m.\u001b[0m\u001b[0mget_group\u001b[0m\u001b[1;33m(\u001b[0m\u001b[1;34m'age'\u001b[0m\u001b[1;33m)\u001b[0m\u001b[1;33m.\u001b[0m\u001b[0mreset_index\u001b[0m\u001b[1;33m(\u001b[0m\u001b[1;33m)\u001b[0m\u001b[1;33m\u001b[0m\u001b[1;33m\u001b[0m\u001b[0m\n\u001b[0m\u001b[0;32m      2\u001b[0m \u001b[0mprint\u001b[0m\u001b[1;33m(\u001b[0m\u001b[0mgroupbyagedf\u001b[0m\u001b[1;33m)\u001b[0m\u001b[1;33m\u001b[0m\u001b[1;33m\u001b[0m\u001b[0m\n",
      "\u001b[1;32mE:\\ProgramData\\Anaconda3\\lib\\site-packages\\pandas\\core\\groupby\\groupby.py\u001b[0m in \u001b[0;36mget_group\u001b[1;34m(self, name, obj)\u001b[0m\n\u001b[0;32m    875\u001b[0m         \u001b[0minds\u001b[0m \u001b[1;33m=\u001b[0m \u001b[0mself\u001b[0m\u001b[1;33m.\u001b[0m\u001b[0m_get_index\u001b[0m\u001b[1;33m(\u001b[0m\u001b[0mname\u001b[0m\u001b[1;33m)\u001b[0m\u001b[1;33m\u001b[0m\u001b[1;33m\u001b[0m\u001b[0m\n\u001b[0;32m    876\u001b[0m         \u001b[1;32mif\u001b[0m \u001b[1;32mnot\u001b[0m \u001b[0mlen\u001b[0m\u001b[1;33m(\u001b[0m\u001b[0minds\u001b[0m\u001b[1;33m)\u001b[0m\u001b[1;33m:\u001b[0m\u001b[1;33m\u001b[0m\u001b[1;33m\u001b[0m\u001b[0m\n\u001b[1;32m--> 877\u001b[1;33m             \u001b[1;32mraise\u001b[0m \u001b[0mKeyError\u001b[0m\u001b[1;33m(\u001b[0m\u001b[0mname\u001b[0m\u001b[1;33m)\u001b[0m\u001b[1;33m\u001b[0m\u001b[1;33m\u001b[0m\u001b[0m\n\u001b[0m\u001b[0;32m    878\u001b[0m \u001b[1;33m\u001b[0m\u001b[0m\n\u001b[0;32m    879\u001b[0m         \u001b[1;32mreturn\u001b[0m \u001b[0mobj\u001b[0m\u001b[1;33m.\u001b[0m\u001b[0m_take\u001b[0m\u001b[1;33m(\u001b[0m\u001b[0minds\u001b[0m\u001b[1;33m,\u001b[0m \u001b[0maxis\u001b[0m\u001b[1;33m=\u001b[0m\u001b[0mself\u001b[0m\u001b[1;33m.\u001b[0m\u001b[0maxis\u001b[0m\u001b[1;33m)\u001b[0m\u001b[1;33m\u001b[0m\u001b[1;33m\u001b[0m\u001b[0m\n",
      "\u001b[1;31mKeyError\u001b[0m: 'age'"
     ]
    }
   ],
   "source": [
    "groupbyagedf = groupbyage.get_group('age').reset_index()\n",
    "print(groupbyagedf)"
   ]
  },
  {
   "cell_type": "code",
   "execution_count": 7,
   "metadata": {},
   "outputs": [
    {
     "data": {
      "text/plain": [
       "<pandas.core.groupby.groupby.DataFrameGroupBy object at 0x0000024889DE7D68>"
      ]
     },
     "execution_count": 7,
     "metadata": {},
     "output_type": "execute_result"
    }
   ],
   "source": [
    "groupbyage"
   ]
  },
  {
   "cell_type": "markdown",
   "metadata": {},
   "source": [
    "### groupby常用的一些功能"
   ]
  },
  {
   "cell_type": "code",
   "execution_count": 32,
   "metadata": {},
   "outputs": [
    {
     "data": {
      "text/plain": [
       "job\n",
       "admin.           4908\n",
       "blue-collar      9141\n",
       "entrepreneur     1115\n",
       "housemaid         871\n",
       "management       8258\n",
       "retired          2997\n",
       "self-employed    1431\n",
       "services         4397\n",
       "student           602\n",
       "technician       5859\n",
       "unemployed       1317\n",
       "unknown           450\n",
       "Name: age, dtype: int64"
      ]
     },
     "execution_count": 32,
     "metadata": {},
     "output_type": "execute_result"
    }
   ],
   "source": [
    "df.groupby('job')['age'].sum()\n"
   ]
  },
  {
   "cell_type": "code",
   "execution_count": 35,
   "metadata": {},
   "outputs": [
    {
     "data": {
      "text/plain": [
       "job\n",
       "admin.           39.580645\n",
       "blue-collar      40.268722\n",
       "entrepreneur     41.296296\n",
       "housemaid        45.842105\n",
       "management       40.480392\n",
       "retired          61.163265\n",
       "self-employed    42.088235\n",
       "services         40.712963\n",
       "student          27.363636\n",
       "technician       40.406897\n",
       "unemployed       41.156250\n",
       "unknown          50.000000\n",
       "Name: age, dtype: float64"
      ]
     },
     "execution_count": 35,
     "metadata": {},
     "output_type": "execute_result"
    }
   ],
   "source": [
    "df.groupby('job')['age'].mean()"
   ]
  },
  {
   "cell_type": "code",
   "execution_count": 36,
   "metadata": {},
   "outputs": [
    {
     "data": {
      "text/plain": [
       "job\n",
       "admin.           124\n",
       "blue-collar      227\n",
       "entrepreneur      27\n",
       "housemaid         19\n",
       "management       204\n",
       "retired           49\n",
       "self-employed     34\n",
       "services         108\n",
       "student           22\n",
       "technician       145\n",
       "unemployed        32\n",
       "unknown            9\n",
       "Name: age, dtype: int64"
      ]
     },
     "execution_count": 36,
     "metadata": {},
     "output_type": "execute_result"
    }
   ],
   "source": [
    "df.groupby('job')['age'].count()"
   ]
  },
  {
   "cell_type": "code",
   "execution_count": null,
   "metadata": {},
   "outputs": [],
   "source": []
  }
 ],
 "metadata": {
  "kernelspec": {
   "display_name": "Python 3",
   "language": "python",
   "name": "python3"
  },
  "language_info": {
   "codemirror_mode": {
    "name": "ipython",
    "version": 3
   },
   "file_extension": ".py",
   "mimetype": "text/x-python",
   "name": "python",
   "nbconvert_exporter": "python",
   "pygments_lexer": "ipython3",
   "version": "3.7.3"
  },
  "nbTranslate": {
   "displayLangs": [
    "*"
   ],
   "hotkey": "alt-t",
   "langInMainMenu": true,
   "sourceLang": "en",
   "targetLang": "fr",
   "useGoogleTranslate": true
  },
  "toc": {
   "base_numbering": 1,
   "nav_menu": {},
   "number_sections": true,
   "sideBar": true,
   "skip_h1_title": false,
   "title_cell": "Table of Contents",
   "title_sidebar": "Contents",
   "toc_cell": false,
   "toc_position": {
    "height": "calc(100% - 180px)",
    "left": "10px",
    "top": "150px",
    "width": "160px"
   },
   "toc_section_display": true,
   "toc_window_display": true
  }
 },
 "nbformat": 4,
 "nbformat_minor": 2
}
